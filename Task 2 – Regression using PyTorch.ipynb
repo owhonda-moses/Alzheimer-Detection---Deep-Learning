{
 "cells": [
  {
   "cell_type": "markdown",
   "id": "a194e7d3",
   "metadata": {},
   "source": [
    "# MS4S16 Coursework: Deep Learning\n",
    "### _by `Owhonda Moses`_\n",
    "\n",
    "## Table of Contents\n",
    "<ul>\n",
    "<li><a href=\"#part1\">Part 1</a></li>\n",
    "<li><a href=\"#part2\">Part 2</a></li>\n",
    "</ul>"
   ]
  },
  {
   "cell_type": "code",
   "execution_count": 1,
   "id": "f6f97f3f",
   "metadata": {},
   "outputs": [],
   "source": [
    "# Import PyTorch library\n",
    "import torch"
   ]
  },
  {
   "cell_type": "markdown",
   "id": "b0a94365",
   "metadata": {},
   "source": [
    "<a id='part1'></a>\n",
    "# Part 1"
   ]
  },
  {
   "cell_type": "code",
   "execution_count": 2,
   "id": "0480b54e",
   "metadata": {},
   "outputs": [
    {
     "name": "stdout",
     "output_type": "stream",
     "text": [
      "Scalar Inputs: tensor([1.], requires_grad=True), tensor([1.])\n"
     ]
    }
   ],
   "source": [
    "# Initialize the variables\n",
    "x = torch.tensor([1.0], requires_grad=True)\n",
    "c = torch.tensor([1.0])\n",
    "\n",
    "print(f'Scalar Inputs: {x}, {c}')"
   ]
  },
  {
   "cell_type": "markdown",
   "id": "e7c112a7",
   "metadata": {},
   "source": [
    "#### 1. $y = 3(t^2 + 2)^2$ _where_ $t = 2x + c$\n",
    "#### 2. $y = 3(s^3 + s) + 2c^4$  _where_ $s = 2x$\n",
    "#### 3. $y = 2t + c$  _where_ $t = (p^2 + 2p + 3)^2 , p = 2r^3 + 3r , r = 2q + 3 , q = 2x + c$"
   ]
  },
  {
   "cell_type": "code",
   "execution_count": 3,
   "id": "08b2c48d",
   "metadata": {},
   "outputs": [
    {
     "name": "stdout",
     "output_type": "stream",
     "text": [
      "The gradient values of the functions are:\n",
      "Q1 = 792.0\n",
      "Q2 = 78.0 \n",
      "Q3 = 5433360121856.0\n"
     ]
    }
   ],
   "source": [
    "# Calculate derivative for function 1\n",
    "t = 2*x + c\n",
    "y1 = 3*(t**2 + 2)**2\n",
    "y1.backward()\n",
    "dy_dx1 = x.grad.item()\n",
    "x.grad.zero_()  # Reset the gradient\n",
    "\n",
    "# Calculate derivative for function 2\n",
    "s = 2*x\n",
    "y2 = 3*(s**3 + s) + 2*c**4\n",
    "y2.backward()\n",
    "dy_dx2 = x.grad.item()\n",
    "x.grad.zero_()  # Reset the gradient\n",
    "\n",
    "# Calculate derivative for function 3\n",
    "q = 2*x + c\n",
    "r = 2*q**3 + 3*q\n",
    "p = 2*r**3 + 3*r\n",
    "t = p**2 + 2*p + 3\n",
    "y3 = 2*t + c\n",
    "y3.backward()\n",
    "dy_dx3 = x.grad.item()\n",
    "x.grad.zero_()  # Reset the gradient\n",
    "\n",
    "# Print the results\n",
    "print(f\"The gradient values of the functions are:\")\n",
    "print(f\"Q1 = {dy_dx1}\\nQ2 = {dy_dx2} \\nQ3 = {dy_dx3}\")"
   ]
  },
  {
   "cell_type": "markdown",
   "id": "60e3ed60",
   "metadata": {},
   "source": [
    "#### Computational Maps"
   ]
  },
  {
   "cell_type": "markdown",
   "id": "5ae7a895",
   "metadata": {},
   "source": [
    "> A. Computational map for $y = 3(t^2 + 2)^2$ _where_ $t = 2x + c$\n",
    "\n",
    "<center>$x, c$\n",
    "\n",
    "<center>↓\n",
    " \n",
    " \n",
    "<center>$2x + c$\n",
    "    \n",
    "<center>↓    \n",
    "    \n",
    "<center>$t$\n",
    "\n",
    "<center>↓\n",
    " \n",
    "<center>$t^2 + 2$\n",
    "\n",
    "<center>↓\n",
    " \n",
    "<center>$(t^2 + 2 )^2$\n",
    "\n",
    "<center>↓\n",
    " \n",
    "<center>$3( t^2 + 2 )^2 $ \n",
    "    \n",
    "<center>↓\n",
    "    \n",
    "<center>$y$</center>\n"
   ]
  },
  {
   "cell_type": "markdown",
   "id": "c098c126",
   "metadata": {},
   "source": [
    "> B. Computational map for $y = 3(s^3 + s) + 2c^4$  _where_ $s = 2x$\n",
    "\n",
    "<center>$x, c$\n",
    "\n",
    "<center>↓\n",
    " \n",
    " \n",
    "<center>$2x$\n",
    "    \n",
    "<center>↓    \n",
    "    \n",
    "<center>$s$\n",
    "\n",
    "<center>↓\n",
    " \n",
    "<center>$s^3 + s$\n",
    "\n",
    "<center>↓\n",
    " \n",
    "<center>$3(s^3 + s)$\n",
    "\n",
    "<center>↓\n",
    " \n",
    "<center>$3( s^3 + s ) + 2c^4 $ \n",
    "    \n",
    "<center>↓\n",
    "    \n",
    "<center>$y$</center>\n"
   ]
  },
  {
   "cell_type": "markdown",
   "id": "16885703",
   "metadata": {},
   "source": [
    "<a id='part2'></a>\n",
    "# Part 2"
   ]
  },
  {
   "cell_type": "code",
   "execution_count": 4,
   "id": "5de720fa",
   "metadata": {},
   "outputs": [],
   "source": [
    "# Define the GradientDescent class\n",
    "class GradientDescent:\n",
    "    def __init__(self, X, y_0, learning_rate, iterations):\n",
    "        \"\"\"\n",
    "        Initialize the GradientDescent class.\n",
    "\n",
    "        Args:\n",
    "            X (torch.tensor): Input data.\n",
    "            y_0 (torch.tensor): Target values.\n",
    "            learning_rate (float): Learning rate for gradient descent.\n",
    "            iterations (int): Number of iterations for training.\n",
    "        \"\"\"\n",
    "        # Initialize the variables\n",
    "        self.X = X\n",
    "        self.y_0 = y_0\n",
    "        self.learning_rate = learning_rate\n",
    "        self.iterations = iterations\n",
    "        self.a = torch.tensor([1.0], requires_grad=True)\n",
    "        self.b = torch.tensor([1.0], requires_grad=True)\n",
    "\n",
    "    def train(self):\n",
    "        \"\"\"\n",
    "        Train the model using gradient descent.\n",
    "\n",
    "        Returns:\n",
    "            float: Optimized value of parameter 'a'.\n",
    "            float: Optimized value of parameter 'b'.\n",
    "        \"\"\"\n",
    "        # Perform gradient descent\n",
    "        for i in range(self.iterations):\n",
    "            # Calculate the predicted y values \n",
    "            y_pred = torch.exp(-self.a * self.X) + 2 * self.a * self.X + self.b\n",
    "            \n",
    "            # Compute loss and perform backward pass\n",
    "            loss = (self.y_0 - y_pred).pow(2).sum()\n",
    "            loss.backward()\n",
    "            \n",
    "            # Update parameters using calcualted gradients\n",
    "            with torch.no_grad():\n",
    "                self.a -= self.learning_rate * self.a.grad\n",
    "                self.b -= self.learning_rate * self.b.grad\n",
    "                \n",
    "            # Reset the gradients\n",
    "            self.a.grad.zero_()\n",
    "            self.b.grad.zero_()\n",
    "\n",
    "        return self.a.item(), self.b.item()"
   ]
  },
  {
   "cell_type": "code",
   "execution_count": 5,
   "id": "c8967f20",
   "metadata": {},
   "outputs": [
    {
     "name": "stdout",
     "output_type": "stream",
     "text": [
      "The gradient values that best fit the model are:\n",
      "a = 0.32409343123435974\n",
      "b = 4.893712520599365\n"
     ]
    }
   ],
   "source": [
    "# Define the X and y_0 values\n",
    "X = torch.tensor([-2.0, -1.9, -1.8, -1.7, -1.6, -1.5, -1.4, -1.3, -1.2, -1.1, -1, -0.8,\n",
    "                  -0.7, -0.6, -0.5, -0.4, -0.3, -0.2, -0.1, 0, 0.1, 0.2, 0.3, 0.4, 0.5,\n",
    "                  0.6, 0.7, 0.8, 0.9, 1, 1.1, 1.2, 1.3, 1.4, 1.5, 1.6, 1.7, 1.8, 1.9, 2.0])\n",
    "y_0 = torch.tensor([6.255, 6.121, 6.005, 5.907, 5.825, 5.758, 5.704, 5.664, 5.636, 5.614, 5.598, 5.588,\n",
    "                    5.582, 5.582, 5.586, 5.594, 5.606, 5.622, 5.642, 5.666, 5.694, 5.726, 5.762, 5.802,\n",
    "                    5.846, 5.894, 5.946, 6.002, 6.062, 6.126, 6.194, 6.266, 6.342, 6.422, 6.506, 6.594,\n",
    "                    6.686, 6.782, 6.882, 6.986])\n",
    "\n",
    "# Define the learning rate and number of iterations\n",
    "learning_rate = 0.001\n",
    "iterations = 10000\n",
    "\n",
    "# Create an instance of the class and train the model\n",
    "model = GradientDescent(X, y_0, learning_rate=learning_rate, iterations=iterations)\n",
    "a, b = model.train()\n",
    "\n",
    "# Print the results\n",
    "print(f\"The gradient values that best fit the model are:\")\n",
    "print(f\"a = {a}\\nb = {b}\")  "
   ]
  },
  {
   "cell_type": "code",
   "execution_count": null,
   "id": "ae4a39ef",
   "metadata": {},
   "outputs": [],
   "source": []
  }
 ],
 "metadata": {
  "kernelspec": {
   "display_name": "Python 3 (ipykernel)",
   "language": "python",
   "name": "python3"
  },
  "language_info": {
   "codemirror_mode": {
    "name": "ipython",
    "version": 3
   },
   "file_extension": ".py",
   "mimetype": "text/x-python",
   "name": "python",
   "nbconvert_exporter": "python",
   "pygments_lexer": "ipython3",
   "version": "3.11.3"
  }
 },
 "nbformat": 4,
 "nbformat_minor": 5
}
